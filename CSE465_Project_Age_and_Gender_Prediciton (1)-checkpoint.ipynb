{
 "cells": [
  {
   "cell_type": "code",
   "execution_count": 1,
   "id": "958ebdde",
   "metadata": {},
   "outputs": [],
   "source": [
    "# import necessary libraries"
   ]
  },
  {
   "cell_type": "code",
   "execution_count": 2,
   "id": "86b80278",
   "metadata": {},
   "outputs": [
    {
     "ename": "ModuleNotFoundError",
     "evalue": "No module named 'cv2'",
     "output_type": "error",
     "traceback": [
      "\u001b[1;31m---------------------------------------------------------------------------\u001b[0m",
      "\u001b[1;31mModuleNotFoundError\u001b[0m                       Traceback (most recent call last)",
      "Cell \u001b[1;32mIn[2], line 10\u001b[0m\n\u001b[0;32m      8\u001b[0m warnings\u001b[38;5;241m.\u001b[39mfilterwarnings(\u001b[38;5;124m'\u001b[39m\u001b[38;5;124mignore\u001b[39m\u001b[38;5;124m'\u001b[39m)\n\u001b[0;32m      9\u001b[0m get_ipython()\u001b[38;5;241m.\u001b[39mrun_line_magic(\u001b[38;5;124m'\u001b[39m\u001b[38;5;124mmatplotlib\u001b[39m\u001b[38;5;124m'\u001b[39m, \u001b[38;5;124m'\u001b[39m\u001b[38;5;124minline\u001b[39m\u001b[38;5;124m'\u001b[39m)\n\u001b[1;32m---> 10\u001b[0m \u001b[38;5;28;01mimport\u001b[39;00m \u001b[38;5;21;01mcv2\u001b[39;00m\n\u001b[0;32m     11\u001b[0m \u001b[38;5;28;01mfrom\u001b[39;00m \u001b[38;5;21;01msklearn\u001b[39;00m\u001b[38;5;21;01m.\u001b[39;00m\u001b[38;5;21;01mmodel_selection\u001b[39;00m \u001b[38;5;28;01mimport\u001b[39;00m train_test_split\n\u001b[0;32m     12\u001b[0m \u001b[38;5;28;01mimport\u001b[39;00m \u001b[38;5;21;01mtensorflow\u001b[39;00m \u001b[38;5;28;01mas\u001b[39;00m \u001b[38;5;21;01mtf\u001b[39;00m\n",
      "\u001b[1;31mModuleNotFoundError\u001b[0m: No module named 'cv2'"
     ]
    }
   ],
   "source": [
    "import os\n",
    "import numpy as np\n",
    "import pandas as pd\n",
    "import matplotlib.pyplot as plt\n",
    "import seaborn as sns\n",
    "import warnings\n",
    "from tqdm.notebook import tqdm\n",
    "warnings.filterwarnings('ignore')\n",
    "%matplotlib inline\n",
    "import cv2\n",
    "from sklearn.model_selection import train_test_split\n",
    "import tensorflow as tf\n",
    "from tensorflow.keras.preprocessing.image import load_img\n",
    "from keras.models import Sequential, Model\n",
    "from keras.layers import Dense, Conv2D, Dropout, Flatten, MaxPooling2D, Input"
   ]
  },
  {
   "cell_type": "code",
   "execution_count": null,
   "id": "0a14c6ad",
   "metadata": {},
   "outputs": [],
   "source": [
    "# set paths\n",
    "data_path = \"D:/Permanent\""
   ]
  },
  {
   "cell_type": "code",
   "execution_count": null,
   "id": "526a782f",
   "metadata": {},
   "outputs": [],
   "source": [
    "# define image size\n",
    "IMG_SIZE = (256, 256)"
   ]
  },
  {
   "cell_type": "code",
   "execution_count": null,
   "id": "093515ab",
   "metadata": {},
   "outputs": [],
   "source": [
    "def clean_images(data_dir):\n",
    "    for img_name in os.listdir(data_dir):\n",
    "        img_path = os.path.join(data_dir, img_name)\n",
    "        img = cv2.imread(img_path)\n",
    "        img = cv2.cvtColor(img, cv2.COLOR_BGR2GRAY)\n",
    "        img = cv2.resize(img, IMG_SIZE)\n",
    "        img = cv2.equalizeHist(img)\n",
    "        img = img / 255.0\n",
    "        cv2.imwrite(img_path, img*255)"
   ]
  },
  {
   "cell_type": "code",
   "execution_count": null,
   "id": "7d266e79",
   "metadata": {},
   "outputs": [],
   "source": [
    "# preprocess data\n",
    "def preprocess_data(data_dir):\n",
    "    images = []\n",
    "    ages = []\n",
    "    for img_name in os.listdir(data_dir):\n",
    "        # extract age and name from image name\n",
    "        age = int(img_name.split(\"_\")[1])\n",
    "        name = img_name.split(\"_\")[0] + \"_\" + str(age) + \"_.jpg\"\n",
    "        # rename image file\n",
    "        old_path = os.path.join(data_dir, img_name)\n",
    "        new_path = os.path.join(data_dir, name)\n",
    "        os.rename(old_path, new_path)\n",
    "        # read, resize, and normalize image\n",
    "        img = cv2.imread(new_path, cv2.IMREAD_GRAYSCALE)\n",
    "        img = cv2.resize(img, IMG_SIZE)\n",
    "        img = img / 255.0\n",
    "        images.append(img)\n",
    "        ages.append(age)\n",
    "    images = np.array(images)\n",
    "    ages = np.array(ages)\n",
    "    return images, ages"
   ]
  },
  {
   "cell_type": "code",
   "execution_count": null,
   "id": "4abfc60d",
   "metadata": {},
   "outputs": [],
   "source": [
    "# split dataset into training and testing sets\n",
    "def split_dataset(data_dir, test_size=0.2, random_state=42):\n",
    "    # get list of image names\n",
    "    img_names = os.listdir(data_dir)\n",
    "    # split into training and testing sets\n",
    "    train_names, test_names = train_test_split(img_names, test_size=test_size, random_state=random_state)\n",
    "    # create directories for training and testing sets\n",
    "    train_dir = os.path.join(data_dir, \"train\")\n",
    "    test_dir = os.path.join(data_dir, \"test\")\n",
    "    os.makedirs(train_dir, exist_ok=True)\n",
    "    os.makedirs(test_dir, exist_ok=True)\n",
    "    # move images to respective directories\n",
    "    for name in train_names:\n",
    "        src_path = os.path.join(data_dir, name)\n",
    "        dst_path = os.path.join(train_dir, name)\n",
    "        os.rename(src_path, dst_path)\n",
    "    for name in test_names:\n",
    "        src_path = os.path.join(data_dir, name)\n",
    "        dst_path = os.path.join(test_dir, name)\n",
    "        os.rename(src_path, dst_path)"
   ]
  },
  {
   "cell_type": "code",
   "execution_count": null,
   "id": "53de4d8d",
   "metadata": {},
   "outputs": [],
   "source": [
    "# split dataset into training and testing sets\n",
    "#split_dataset(data_path)"
   ]
  },
  {
   "cell_type": "code",
   "execution_count": null,
   "id": "62f03da9",
   "metadata": {
    "scrolled": false
   },
   "outputs": [],
   "source": [
    "# clean training data\n",
    "train_path = os.path.join(data_path, \"train\")\n",
    "clean_images(train_path)\n",
    "\n",
    "# Read the image from file\n",
    "img_path = 'D:/Permanent/train/1_2_.jpg'\n",
    "img = cv2.imread(img_path)\n",
    "\n",
    "# Display the image\n",
    "plt.imshow(img)\n",
    "plt.show()"
   ]
  },
  {
   "cell_type": "code",
   "execution_count": null,
   "id": "563c969e",
   "metadata": {
    "scrolled": false
   },
   "outputs": [],
   "source": [
    "# clean testing data\n",
    "test_path = os.path.join(data_path, \"test\")\n",
    "clean_images(test_path)\n",
    "\n",
    "# Read the image from file\n",
    "img_path = 'D:/Permanent/test/0_6_.jpg'\n",
    "img = cv2.imread(img_path)\n",
    "\n",
    "# Display the image\n",
    "plt.imshow(img)\n",
    "plt.show()"
   ]
  },
  {
   "cell_type": "code",
   "execution_count": null,
   "id": "ed34c1c0",
   "metadata": {},
   "outputs": [],
   "source": [
    "# preprocess training data\n",
    "#train_path = os.path.join(data_path, \"train\")\n",
    "#train_images, train_ages = preprocess_data(train_path)"
   ]
  },
  {
   "cell_type": "code",
   "execution_count": null,
   "id": "a52a808e",
   "metadata": {},
   "outputs": [],
   "source": [
    "# preprocess testing data\n",
    "#test_path = os.path.join(data_path, \"test\")\n",
    "#test_images, test_ages = preprocess_data(test_path)"
   ]
  },
  {
   "cell_type": "code",
   "execution_count": null,
   "id": "9cbed30d",
   "metadata": {},
   "outputs": [],
   "source": [
    "# Define the path to the training dataset\n",
    "#data_dir = 'D:/Permanent/train'\n",
    "\n",
    "# Define the rotation angles to use for data augmentation\n",
    "#angles = [-10, -5, 5, 10]\n",
    "\n",
    "# Loop through the images in the dataset\n",
    "#for file_name in os.listdir(data_dir):\n",
    "    # Load the image\n",
    "    #img_path = os.path.join(data_dir, file_name)\n",
    "    #img = cv2.imread(img_path)\n",
    "\n",
    "    # Loop through the rotation angles\n",
    "    #for angle in angles:\n",
    "        # Apply rotation to the image\n",
    "        #rows, cols, _ = img.shape\n",
    "        #M = cv2.getRotationMatrix2D((cols/2, rows/2), angle, 1)\n",
    "        #rotated_img = cv2.warpAffine(img, M, (cols, rows))\n",
    "\n",
    "        # Save the rotated image with new file name\n",
    "        #new_file_name = file_name.split('.')[0] + '_rotated_' + str(angle) + '_.jpg'\n",
    "        #new_img_path = os.path.join(data_dir, new_file_name)\n",
    "        #cv2.imwrite(new_img_path, rotated_img)"
   ]
  },
  {
   "cell_type": "code",
   "execution_count": null,
   "id": "28663ac4",
   "metadata": {},
   "outputs": [],
   "source": [
    "train_dir= 'D:/Permanent/train'"
   ]
  },
  {
   "cell_type": "code",
   "execution_count": null,
   "id": "3882686e",
   "metadata": {},
   "outputs": [],
   "source": [
    "image_paths = []\n",
    "age_labels = []\n",
    "gender_labels = []\n",
    "for filename in os.listdir(train_dir):\n",
    "    image_path = os.path.join(train_dir, filename)\n",
    "    temp = filename.split('_')\n",
    "    gender = int(temp[0])\n",
    "    age = int(temp[1])\n",
    "    image_paths.append(image_path)\n",
    "    age_labels.append(age)\n",
    "    gender_labels.append(gender)"
   ]
  },
  {
   "cell_type": "code",
   "execution_count": null,
   "id": "3f56b626",
   "metadata": {},
   "outputs": [],
   "source": [
    "df = pd.DataFrame()\n",
    "df['image'], df['age'], df['gender'] = image_paths, age_labels, gender_labels\n",
    "df.head()"
   ]
  },
  {
   "cell_type": "code",
   "execution_count": null,
   "id": "2cdf4b04",
   "metadata": {},
   "outputs": [],
   "source": [
    "# map labels for gender\n",
    "gender_dic = {0:'Male', 1:'Female'}"
   ]
  },
  {
   "cell_type": "code",
   "execution_count": null,
   "id": "e816b650",
   "metadata": {},
   "outputs": [],
   "source": [
    "#Exploratory Data Analysis"
   ]
  },
  {
   "cell_type": "code",
   "execution_count": null,
   "id": "595240fc",
   "metadata": {},
   "outputs": [],
   "source": [
    "from PIL import Image\n",
    "img = Image.open(df['image'][0])\n",
    "plt.axis('off')\n",
    "plt.imshow(img);"
   ]
  },
  {
   "cell_type": "code",
   "execution_count": null,
   "id": "d92eda67",
   "metadata": {},
   "outputs": [],
   "source": [
    "sns.distplot(df['age'])"
   ]
  },
  {
   "cell_type": "code",
   "execution_count": null,
   "id": "3b88349d",
   "metadata": {},
   "outputs": [],
   "source": [
    "# to display grid of images"
   ]
  },
  {
   "cell_type": "code",
   "execution_count": null,
   "id": "eb8612bd",
   "metadata": {},
   "outputs": [],
   "source": [
    "plt.figure(figsize=(20,20))\n",
    "files = df.iloc[0:25]\n",
    "\n",
    "for index, file, age, gender in files.itertuples():\n",
    "    plt.subplot(5,5, index+1)\n",
    "    img = load_img(file)\n",
    "    img = np.array(img)\n",
    "    plt.imshow(img)\n",
    "    plt.title(f\"Age:{age} Gender: {gender_dic[gender]}\")\n",
    "    plt.axis('off')"
   ]
  },
  {
   "cell_type": "code",
   "execution_count": null,
   "id": "f3bc8bee",
   "metadata": {},
   "outputs": [],
   "source": [
    "def extract_features(images):\n",
    "    features = []\n",
    "    for image in images:\n",
    "        img = load_img(image, grayscale = True)\n",
    "        img = img.resize((128,128),Image.ANTIALIAS)\n",
    "        img = np.array(img)\n",
    "        features.append(img)\n",
    "    \n",
    "    features = np.array(features)\n",
    "    features= features.reshape(len(features),128,128,1)\n",
    "    return features"
   ]
  },
  {
   "cell_type": "code",
   "execution_count": null,
   "id": "fee05849",
   "metadata": {},
   "outputs": [],
   "source": [
    "X= extract_features(df['image'])"
   ]
  },
  {
   "cell_type": "code",
   "execution_count": null,
   "id": "f577c500",
   "metadata": {},
   "outputs": [],
   "source": [
    "X.shape"
   ]
  },
  {
   "cell_type": "code",
   "execution_count": null,
   "id": "f57339fd",
   "metadata": {},
   "outputs": [],
   "source": [
    "# normalize the image\n",
    "X = X/255.0"
   ]
  },
  {
   "cell_type": "code",
   "execution_count": null,
   "id": "657cad13",
   "metadata": {},
   "outputs": [],
   "source": [
    "y_gender = np. array(df['gender'])\n",
    "y_age = np.array(df['age'])"
   ]
  },
  {
   "cell_type": "code",
   "execution_count": null,
   "id": "67cff49d",
   "metadata": {},
   "outputs": [],
   "source": [
    "input_shape = (128, 128, 1)"
   ]
  },
  {
   "cell_type": "code",
   "execution_count": null,
   "id": "b5daaa3c",
   "metadata": {},
   "outputs": [],
   "source": [
    "# Model Creation"
   ]
  },
  {
   "cell_type": "code",
   "execution_count": null,
   "id": "2168b010",
   "metadata": {},
   "outputs": [],
   "source": [
    "inputs = Input((input_shape))\n",
    "#convolutional layers\n",
    "conv_1 = Conv2D(32, kernel_size=(3, 3),activation = 'relu') ( inputs)\n",
    "maxp_1  = MaxPooling2D(pool_size = (2, 2))(conv_1)\n",
    "conv_2 = Conv2D(64, kernel_size=(3, 3),activation = 'relu') ( maxp_1)\n",
    "maxp_2  = MaxPooling2D(pool_size = (2, 2))(conv_2)\n",
    "conv_3 = Conv2D(128, kernel_size=(3, 3),activation = 'relu') ( maxp_2)\n",
    "maxp_3  = MaxPooling2D(pool_size = (2, 2))(conv_3)\n",
    "conv_4 = Conv2D(256, kernel_size=(3, 3),activation = 'relu') ( maxp_3)\n",
    "maxp_4  = MaxPooling2D(pool_size = (2, 2))(conv_4)\n",
    "\n",
    "flatten = Flatten() (maxp_4)\n",
    "# Fully connected layers\n",
    "dense_1 = Dense(256, activation = 'relu')(flatten)\n",
    "dense_2 = Dense(256, activation = 'relu')(flatten)\n",
    "\n",
    "dropout_1 = Dropout(0.3) (dense_1)\n",
    "dropout_2 = Dropout(0.3) (dense_2)\n",
    "\n",
    "output_1 = Dense(1, activation = 'sigmoid', name = 'gender_out') (dropout_1)\n",
    "output_2 = Dense(1, activation = 'relu', name = 'age_out') (dropout_2)\n",
    "\n",
    "model = Model(inputs=[inputs], outputs =[output_1, output_2])\n",
    "\n",
    "model.compile(loss = ['binary_crossentropy','mae'], optimizer= 'adam', metrics=['accuracy'])"
   ]
  },
  {
   "cell_type": "code",
   "execution_count": null,
   "id": "4c3aec67",
   "metadata": {},
   "outputs": [],
   "source": [
    "model.summary()"
   ]
  },
  {
   "cell_type": "code",
   "execution_count": null,
   "id": "c1192f56",
   "metadata": {},
   "outputs": [],
   "source": [
    "# train model\n",
    "history = model.fit(x=X, y=[y_gender,y_age], batch_size = 32, epochs = 30, validation_split=0.2)"
   ]
  },
  {
   "cell_type": "code",
   "execution_count": null,
   "id": "24b373c5",
   "metadata": {},
   "outputs": [],
   "source": [
    "# Plot results for Gender\n",
    "acc = history.history['gender_out_accuracy']\n",
    "val_acc = history.history['val_gender_out_accuracy']\n",
    "epochs = range(len(acc))\n",
    "\n",
    "plt.plot(epochs, acc, 'b', label= 'Training Accuracy')\n",
    "plt.plot(epochs, val_acc, 'r', label= 'Validation Accuracy')\n",
    "plt.title('Accuracy Graph')\n",
    "plt.legend()\n",
    "plt.figure()\n",
    "\n",
    "loss = history.history['gender_out_loss']\n",
    "val_loss = history.history['val_gender_out_loss']\n",
    "\n",
    "plt.plot(epochs, loss, 'b', label= 'Training Loss')\n",
    "plt.plot(epochs, val_loss, 'r', label= 'Validation Loss')\n",
    "plt.title('Loss Graph')\n",
    "plt.legend()\n",
    "plt.figure()"
   ]
  },
  {
   "cell_type": "code",
   "execution_count": null,
   "id": "6f155142",
   "metadata": {},
   "outputs": [],
   "source": [
    "# Plot for Age\n",
    "loss = history.history['age_out_loss']\n",
    "val_loss = history.history['val_age_out_loss']\n",
    "epochs = range(len(loss))\n",
    "\n",
    "plt.plot(epochs, loss, 'b', label= 'Training Loss')\n",
    "plt.plot(epochs, val_loss, 'r', label= 'Validation Loss')\n",
    "plt.title('Loss Graph')\n",
    "plt.legend()\n",
    "plt.figure()"
   ]
  },
  {
   "cell_type": "code",
   "execution_count": null,
   "id": "eace6225",
   "metadata": {},
   "outputs": [],
   "source": [
    "image_index=200\n",
    "print(\"Original Gender:\" ,gender_dic[y_gender[image_index]], \"Original Age:\", y_age[image_index])\n",
    "# predict from model\n",
    "pred = model.predict(X[image_index].reshape(1,128,128,1))\n",
    "pred_gender = gender_dic[round(pred[0][0][0])]\n",
    "pred_age = round(pred[1][0][0])\n",
    "print(\"Predicted Gender:\", pred_gender, \"Predicted Age:\", pred_age)\n",
    "plt.axis('off')\n",
    "plt.imshow(X[image_index].reshape(128,128), cmap='gray')"
   ]
  },
  {
   "cell_type": "code",
   "execution_count": null,
   "id": "c9f51635",
   "metadata": {},
   "outputs": [],
   "source": []
  }
 ],
 "metadata": {
  "kernelspec": {
   "display_name": "Python 3 (ipykernel)",
   "language": "python",
   "name": "python3"
  },
  "language_info": {
   "codemirror_mode": {
    "name": "ipython",
    "version": 3
   },
   "file_extension": ".py",
   "mimetype": "text/x-python",
   "name": "python",
   "nbconvert_exporter": "python",
   "pygments_lexer": "ipython3",
   "version": "3.10.9"
  }
 },
 "nbformat": 4,
 "nbformat_minor": 5
}
